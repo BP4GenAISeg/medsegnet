{
 "cells": [
  {
   "cell_type": "code",
   "execution_count": null,
   "metadata": {},
   "outputs": [
    {
     "name": "stdout",
     "output_type": "stream",
     "text": [
      "[[[56 82 81]\n",
      "  [57 98 11]]]\n",
      "(1, 2, 3)\n",
      "torch.Size([1, 2, 3])\n",
      "tensor([[[56., 82., 81.],\n",
      "         [57., 98., 11.]]])\n"
     ]
    }
   ],
   "source": [
    "import numpy as np\n",
    "import torch\n",
    "from torch.utils.data import DataLoader\n",
    "\n",
    "xs = np.random.randint(1, 100, (1, 2, 3))\n",
    "print(xs)\n",
    "\n",
    "print(xs.shape)\n",
    "\n",
    "xs = torch.tensor(xs, dtype=torch.float32)\n",
    "\n",
    "print(xs.shape)\n",
    "\n",
    "\n",
    "\n",
    "dataloader = DataLoader(xs, batch_size=1)\n",
    "\n",
    "for x in (dataloader):\n",
    "  print(x)\n",
    "\n",
    "\n",
    "\n"
   ]
  },
  {
   "cell_type": "code",
   "execution_count": 6,
   "metadata": {},
   "outputs": [
    {
     "ename": "AssertionError",
     "evalue": "Invalid label values!",
     "output_type": "error",
     "traceback": [
      "\u001b[0;31m---------------------------------------------------------------------------\u001b[0m",
      "\u001b[0;31mAssertionError\u001b[0m                            Traceback (most recent call last)",
      "Cell \u001b[0;32mIn[6], line 18\u001b[0m\n\u001b[1;32m     15\u001b[0m dataset \u001b[38;5;241m=\u001b[39m MedicalDecathlonDataset(cfg, task_name, images_path, labels_path, target_shape)\n\u001b[1;32m     17\u001b[0m labels \u001b[38;5;241m=\u001b[39m \u001b[38;5;28mset\u001b[39m()\n\u001b[0;32m---> 18\u001b[0m \u001b[38;5;28;01mfor\u001b[39;00m x, y \u001b[38;5;129;01min\u001b[39;00m dataset:\n\u001b[1;32m     19\u001b[0m   \u001b[38;5;28mprint\u001b[39m(x\u001b[38;5;241m.\u001b[39mshape, y\u001b[38;5;241m.\u001b[39mshape)\n\u001b[1;32m     20\u001b[0m   \u001b[38;5;28;01mbreak\u001b[39;00m\n",
      "File \u001b[0;32m~/Desktop/medsegnet/data/datasets.py:65\u001b[0m, in \u001b[0;36mMedicalDecathlonDataset.__getitem__\u001b[0;34m(self, idx)\u001b[0m\n\u001b[1;32m     63\u001b[0m image \u001b[38;5;241m=\u001b[39m nib\u001b[38;5;241m.\u001b[39mload(image_path)\u001b[38;5;241m.\u001b[39mget_fdata() \u001b[38;5;66;03m# Shape: [W, H, D]\u001b[39;00m\n\u001b[1;32m     64\u001b[0m label \u001b[38;5;241m=\u001b[39m nib\u001b[38;5;241m.\u001b[39mload(label_path)\u001b[38;5;241m.\u001b[39mget_fdata() \u001b[38;5;66;03m# Shape: [W, H, D]\u001b[39;00m\n\u001b[0;32m---> 65\u001b[0m \u001b[38;5;28;01massert\u001b[39;00m label\u001b[38;5;241m.\u001b[39mmin() \u001b[38;5;241m>\u001b[39m\u001b[38;5;241m=\u001b[39m \u001b[38;5;241m0\u001b[39m \u001b[38;5;129;01mand\u001b[39;00m label\u001b[38;5;241m.\u001b[39mmax() \u001b[38;5;241m<\u001b[39m \u001b[38;5;28mself\u001b[39m\u001b[38;5;241m.\u001b[39mcfg\u001b[38;5;241m.\u001b[39mtraining\u001b[38;5;241m.\u001b[39mnum_classes, \u001b[38;5;124m\"\u001b[39m\u001b[38;5;124mInvalid label values!\u001b[39m\u001b[38;5;124m\"\u001b[39m\n\u001b[1;32m     67\u001b[0m image \u001b[38;5;241m=\u001b[39m resize_nd_image(image, \u001b[38;5;28mself\u001b[39m\u001b[38;5;241m.\u001b[39mtarget_shape, is_mask\u001b[38;5;241m=\u001b[39m\u001b[38;5;28;01mFalse\u001b[39;00m)\n\u001b[1;32m     68\u001b[0m label \u001b[38;5;241m=\u001b[39m resize_nd_image(label, \u001b[38;5;28mself\u001b[39m\u001b[38;5;241m.\u001b[39mtarget_shape, is_mask\u001b[38;5;241m=\u001b[39m\u001b[38;5;28;01mTrue\u001b[39;00m)\n",
      "\u001b[0;31mAssertionError\u001b[0m: Invalid label values!"
     ]
    }
   ],
   "source": [
    "from data.datasets import MedicalDecathlonDataset\n",
    "from omegaconf import OmegaConf\n",
    "import os\n",
    "\n",
    "cfg = OmegaConf.load(\"conf/config.yaml\")\n",
    "task_name = cfg.dataset.task_name\n",
    "dataset_path = f\"{cfg.dataset.base_path}{task_name}/\"\n",
    "images_path = f\"{dataset_path}{cfg.dataset.images_subdir}\"\n",
    "labels_path = f\"{dataset_path}{cfg.dataset.labels_subdir}\"\n",
    "target_shape = cfg.dataset.target_shape\n",
    "\n",
    "\n",
    "\n",
    "\n",
    "dataset = MedicalDecathlonDataset(cfg, task_name, images_path, labels_path, target_shape)\n",
    "\n",
    "labels = set()\n",
    "for x, y in dataset:\n",
    "  print(x.shape, y.shape)\n",
    "  break\n"
   ]
  },
  {
   "cell_type": "code",
   "execution_count": null,
   "metadata": {},
   "outputs": [
    {
     "name": "stdout",
     "output_type": "stream",
     "text": [
      "0.0 3.0\n",
      "(240, 240, 155)\n"
     ]
    }
   ],
   "source": [
    "from data.datasets import MedicalDecathlonDataset\n",
    "from omegaconf import OmegaConf\n",
    "import os\n",
    "import nibabel as nib\n",
    "\n",
    "cfg = OmegaConf.load(\"conf/config.yaml\")\n",
    "task_name = cfg.dataset.task_name\n",
    "dataset_path = f\"{cfg.dataset.base_path}{task_name}/\"\n",
    "images_path = f\"{dataset_path}{cfg.dataset.images_subdir}\"\n",
    "labels_path = f\"{dataset_path}{cfg.dataset.labels_subdir}\"\n",
    "target_shape = cfg.dataset.target_shape\n",
    "\n",
    "\n",
    "label_path = os.path.join(labels_path, sorted(os.listdir(labels_path))[0])\n",
    "\n",
    "label = nib.load(label_path).get_fdata() # Shape: [W, H, D]\n",
    "print(label.min(), label.max())\n",
    "print(label.shape)\n",
    "\n",
    "\n"
   ]
  },
  {
   "cell_type": "code",
   "execution_count": null,
   "metadata": {},
   "outputs": [],
   "source": []
  },
  {
   "cell_type": "code",
   "execution_count": null,
   "metadata": {},
   "outputs": [],
   "source": []
  }
 ],
 "metadata": {
  "kernelspec": {
   "display_name": "Python 3",
   "language": "python",
   "name": "python3"
  },
  "language_info": {
   "codemirror_mode": {
    "name": "ipython",
    "version": 3
   },
   "file_extension": ".py",
   "mimetype": "text/x-python",
   "name": "python",
   "nbconvert_exporter": "python",
   "pygments_lexer": "ipython3",
   "version": "3.10.16"
  }
 },
 "nbformat": 4,
 "nbformat_minor": 2
}
